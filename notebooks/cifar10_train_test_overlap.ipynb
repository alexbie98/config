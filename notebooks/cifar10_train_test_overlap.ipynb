{
  "nbformat": 4,
  "nbformat_minor": 0,
  "metadata": {
    "colab": {
      "private_outputs": true,
      "provenance": [],
      "gpuType": "T4"
    },
    "kernelspec": {
      "name": "python3",
      "display_name": "Python 3"
    },
    "language_info": {
      "name": "python"
    },
    "accelerator": "GPU"
  },
  "cells": [
    {
      "cell_type": "markdown",
      "source": [
        "For CIFAR-10, at least 198 test images (2% of test set) are in the train set (or near-duplicate is in the train set)."
      ],
      "metadata": {
        "id": "L8Pq7EvpedtU"
      }
    },
    {
      "cell_type": "code",
      "execution_count": null,
      "metadata": {
        "id": "TKeF8v4o360_"
      },
      "outputs": [],
      "source": [
        "import torchvision\n",
        "import matplotlib.pyplot as plt"
      ]
    },
    {
      "cell_type": "code",
      "source": [
        "# 198 train/test overlap indices\n",
        "\n",
        "test_overlap_indices = [\n",
        "    7294,  402,  535,  779, 1423, 6435,  902, 4937, 3520, 9141, 6080, 9408,\n",
        "    6563, 9112, 6880, 2406,  106, 2807,  159, 7264, 1513, 8299, 9738, 5164,\n",
        "     673, 5243, 4362, 7293, 1712, 5026,  654, 9677, 2901, 7066, 6528, 9496,\n",
        "    6372, 1071, 6864, 5761,  939, 2057, 3095, 2929, 7163, 6893, 8468, 9650,\n",
        "    9186, 1652, 3322, 4236, 8771, 8675, 2967, 9788, 2830, 9340, 6350, 7052,\n",
        "    4989, 3007,   40, 9413, 1103, 2911, 4104, 6921, 3057, 5863, 3197, 5423,\n",
        "    6503, 7225, 2148, 1335, 3965, 6903, 9818, 1556,  506, 7075, 2925, 8445,\n",
        "    8356, 9350, 4424, 4953, 4268, 4037, 4406, 9653, 3889, 4039, 3261, 1327,\n",
        "    7029,  863,  985, 3663, 3565, 6003, 5123, 4332, 9482, 7039,  131, 2544,\n",
        "    1777, 8526, 8150, 7631,  104, 3745,  136, 5976, 8293, 3641, 5383, 5201,\n",
        "    1340, 7889, 3428, 8895,  856, 2329, 8523, 7604, 5880,  896, 7799, 5530,\n",
        "    8253, 4234, 6954, 5762, 6173,  180, 3547,    3, 3572, 4057, 4366, 6547,\n",
        "    3462, 3293, 8031, 2123, 7315, 2564, 6946, 1920, 8132, 3396, 6713, 5194,\n",
        "    3931, 2678, 4328, 3391, 6739,  149, 4413, 4297, 8037, 2801, 7053, 9703,\n",
        "    8244, 2392,  516, 3170, 9577, 9126, 6644, 5606, 9625,  627, 2995, 2019,\n",
        "    4043, 6015, 7825, 2369, 4091, 8075, 5647, 9860, 2836, 4145, 8351, 9765,\n",
        "     983, 5394, 4105, 2504, 2137, 4777\n",
        "]\n",
        "\n",
        "train_overlap_indices =[\n",
        "    16453, 40374, 23051, 11247, 27629, 22956, 22337,  5994, 46237,  6167,\n",
        "     9148, 15592,  7524,  8368, 35230, 28213, 26554, 25507, 25768,  1148,\n",
        "     6451, 35398, 26335,  5657, 34116, 37995, 45515,  9640,  5657, 28769,\n",
        "    27654,  3589,  6801, 31042,  7679, 21437, 10133, 47578, 44426, 23269,\n",
        "    40886, 24687,  1373, 21270,  7252, 37546, 48600, 33852, 37082,  2145,\n",
        "    13447, 12071,  2099, 14363,   916, 32665, 31706, 46421, 16752, 24228,\n",
        "    40396, 21311, 46506,  2342, 12009, 11817, 17166,  6463, 45169, 37987,\n",
        "     7272, 41088, 41379, 37755, 22196, 23032, 33831, 37349, 49373, 42617,\n",
        "    17129, 26647, 41148, 39948, 30062,  6566, 47588, 48476, 17992,  4337,\n",
        "     5205, 16998, 34679, 49063,  5426, 46124, 19059, 34379, 22784, 48375,\n",
        "    24220,  5327, 19960, 12446, 10589, 45773, 43969, 17267, 27754, 45897,\n",
        "    27595,   323, 20304, 46408,  4164, 49980,  8272, 35894,  9913, 15897,\n",
        "    10363, 35406,  6963, 28456,  3473, 12727,  5375, 41322, 33683, 10070,\n",
        "     4049, 16335, 45367,  9579, 27697,  1711,  4039, 29225,  4416, 37867,\n",
        "     8286,  5935, 13655, 32537, 38704,  7774, 41432, 23537,  3443, 14472,\n",
        "    45751, 37361, 33287, 19632, 33544, 20016, 33873, 47946, 39815, 44103,\n",
        "    38783, 30108, 29752,  3887, 13218, 49980, 29429,  6844, 27647, 40247,\n",
        "    43161, 44698, 19216, 18719,  8199, 49063, 35168,  5038, 33862, 27818,\n",
        "     6595, 40806, 18373, 36194, 19072, 25694, 15989, 44299,  2383, 22760,\n",
        "     1473, 27596, 27220, 29555,  2889, 39109, 33090, 27598\n",
        "]\n"
      ],
      "metadata": {
        "id": "Ey9s98d44p6C"
      },
      "execution_count": null,
      "outputs": []
    },
    {
      "cell_type": "code",
      "source": [
        "def plot_images(left, left_subtitle, left_title, right, right_subtitle, right_title):\n",
        "\n",
        "    # plot train test images side by side with closest training image, labelled with ssim\n",
        "    fig, axs = plt.subplots(len(left), 2, figsize=(4.5, 2*len(left)))\n",
        "\n",
        "    # test images on left, train images on right\n",
        "    axs[0,0].set_title('test image')\n",
        "    axs[0,1].set_title('closest train')\n",
        "\n",
        "    for i in range(len(left)):\n",
        "\n",
        "        axs[i,0].imshow(left[i])\n",
        "        axs[i,0].set_xlabel(f'idx {left_subtitle[i]}')\n",
        "\n",
        "        axs[i,1].imshow(right[i])\n",
        "        axs[i,1].set_xlabel(f'idx {right_subtitle[i]}')\n",
        "\n",
        "        # clean up visualization\n",
        "        for j in range(2):\n",
        "            axs[i,j].set_xticks([])\n",
        "            axs[i,j].set_yticks([])\n",
        "            axs[i,j].spines['top'].set_visible(False)\n",
        "            axs[i,j].spines['left'].set_visible(False)\n",
        "            axs[i,j].spines['right'].set_visible(False)\n",
        "            axs[i,j].spines['bottom'].set_visible(False)\n",
        "\n",
        "    plt.show()\n"
      ],
      "metadata": {
        "id": "CWjjABXu8FKQ"
      },
      "execution_count": null,
      "outputs": []
    },
    {
      "cell_type": "code",
      "source": [
        "train = torchvision.datasets.CIFAR10(root='./data', train=True, download = True)\n",
        "test = torchvision.datasets.CIFAR10(root='./data', train=False, download = True)"
      ],
      "metadata": {
        "id": "nID204Jv6pSk"
      },
      "execution_count": null,
      "outputs": []
    },
    {
      "cell_type": "code",
      "source": [
        "test_overlap_images = [test[i][0] for i in test_overlap_indices]\n",
        "train_overlap_images = [train[i][0] for i in train_overlap_indices]\n",
        "\n",
        "plot_images(test_overlap_images, test_overlap_indices, 'test',\n",
        "            train_overlap_images, train_overlap_indices, 'closest train')"
      ],
      "metadata": {
        "id": "5adGwkqV7iVV"
      },
      "execution_count": null,
      "outputs": []
    },
    {
      "cell_type": "markdown",
      "source": [
        "### Code to get these 198 indices\n",
        "\n",
        "takes about 50min to run"
      ],
      "metadata": {
        "id": "68FLKTHo7Ofr"
      }
    },
    {
      "cell_type": "code",
      "source": [
        "!pip install piq"
      ],
      "metadata": {
        "id": "rbY0fp4N-ab8"
      },
      "execution_count": null,
      "outputs": []
    },
    {
      "cell_type": "code",
      "source": [
        "import torch\n",
        "import tqdm\n",
        "import piq\n",
        "device = torch.device('cuda:0')"
      ],
      "metadata": {
        "id": "xQ_yxbZ87BfE"
      },
      "execution_count": null,
      "outputs": []
    },
    {
      "cell_type": "code",
      "source": [
        "# load images into gpu memory\n",
        "test.transform = torchvision.transforms.ToTensor()\n",
        "train.transform = torchvision.transforms.ToTensor()\n",
        "test_images = next(iter(torch.utils.data.DataLoader(test, batch_size=10000, shuffle=False)))[0].to(device)\n",
        "train_images = next(iter(torch.utils.data.DataLoader(train, batch_size=50000, shuffle=False)))[0].to(device)"
      ],
      "metadata": {
        "id": "bMGaSMd14euP"
      },
      "execution_count": null,
      "outputs": []
    },
    {
      "cell_type": "code",
      "source": [
        "# compute ssim between each test image and the training set\n",
        "ssims = []\n",
        "for test_image in tqdm.tqdm(test_images):\n",
        "    test_image = test_image[None].repeat(50000, 1, 1, 1)\n",
        "    with torch.no_grad():\n",
        "        ssims.append(\n",
        "            piq.ssim(\n",
        "                test_image,\n",
        "                train_images,\n",
        "                data_range=1.0,\n",
        "                reduction='none'\n",
        "            ).detach().cpu()\n",
        "        )\n",
        "ssims = torch.stack(ssims)\n",
        "torch.save(ssims,'./ssims.pt')"
      ],
      "metadata": {
        "id": "xMNrO2qX_NFP"
      },
      "execution_count": null,
      "outputs": []
    },
    {
      "cell_type": "code",
      "source": [
        "ssims = torch.load('./ssims.pt')"
      ],
      "metadata": {
        "id": "StnLuOw_AksX"
      },
      "execution_count": null,
      "outputs": []
    },
    {
      "cell_type": "code",
      "source": [
        "# get 198 test images with highest ssim to a member of the training set\n",
        "top1_ssim_vals, top1_ssim_indices = torch.max(ssims, dim = 1)\n",
        "test_closest198 = torch.argsort(top1_ssim_vals, descending=True)[:198]\n",
        "train_closest198 = top1_ssim_indices[test_closest198]\n",
        "\n",
        "print(test_closest198)\n",
        "print(train_closest198)\n"
      ],
      "metadata": {
        "id": "O6wBEbE7_z7-"
      },
      "execution_count": null,
      "outputs": []
    },
    {
      "cell_type": "code",
      "source": [
        "assert list(test_closest198) == test_overlap_indices\n",
        "assert list(train_closest198) == train_overlap_indices"
      ],
      "metadata": {
        "id": "YLuKE8faBAXz"
      },
      "execution_count": null,
      "outputs": []
    }
  ]
}