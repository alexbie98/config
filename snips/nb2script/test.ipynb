{
 "cells": [
  {
   "cell_type": "code",
   "execution_count": null,
   "metadata": {},
   "outputs": [],
   "source": [
    "%load_ext autoreload\n",
    "%autoreload 2\n",
    "import argparse"
   ]
  },
  {
   "cell_type": "code",
   "execution_count": null,
   "metadata": {},
   "outputs": [],
   "source": [
    "# =BEGIN SCRIPT ARGUMENTS=\n",
    "\n",
    "import tqdm\n",
    "parser = argparse.ArgumentParser()\n",
    "\n",
    "parser.add_argument('--batch_size', type=int, default=32)\n",
    "\n",
    "args = parser.parse_args()\n",
    "notebook = False\n",
    "\n",
    "# =END SCRIPT ARGUMENTS="
   ]
  },
  {
   "cell_type": "code",
   "execution_count": null,
   "metadata": {},
   "outputs": [],
   "source": [
    "# =BEGIN NOTEBOOK ARGUMENTS=\n",
    "\n",
    "import tqdm.notebook as tqdm\n",
    "args = argparse.Namespace()\n",
    "\n",
    "args.batch_size = 32\n",
    "\n",
    "notebook = True\n",
    "\n",
    "# =END NOTEBOOK ARGUMENTS="
   ]
  },
  {
   "cell_type": "code",
   "execution_count": null,
   "metadata": {},
   "outputs": [],
   "source": [
    "print('batch_size:', args.batch_size)"
   ]
  }
 ],
 "metadata": {
  "language_info": {
   "name": "python"
  }
 },
 "nbformat": 4,
 "nbformat_minor": 2
}
